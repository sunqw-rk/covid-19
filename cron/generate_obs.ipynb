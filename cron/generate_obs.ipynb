{
 "cells": [
  {
   "cell_type": "code",
   "execution_count": 1,
   "id": "aba0e1ba",
   "metadata": {},
   "outputs": [
    {
     "name": "stdout",
     "output_type": "stream",
     "text": [
      "Using day-to-day log-transform\n",
      "Observation numbers = \n",
      "[[5.80000e+01 1.00000e+00 1.00000e+00]\n",
      " [6.40000e+01 1.00000e+00 1.00000e+00]\n",
      " [6.40000e+01 1.00000e+00 1.00000e+00]\n",
      " ...\n",
      " [1.64762e+05 8.01655e+05 3.59300e+03]\n",
      " [1.61557e+05 8.15153e+05 3.62100e+03]\n",
      " [1.59257e+05 8.27057e+05 3.64900e+03]]\n"
     ]
    }
   ],
   "source": [
    "#!/usr/bin/env python\n",
    "# coding: utf-8\n",
    "\n",
    "# In[1]:\n",
    "\n",
    "\n",
    "import numpy as np\n",
    "from class_state_vec import state_vector\n",
    "from class_obs import obs_da\n",
    "import random as rd\n",
    "import pandas as pd\n",
    "\n",
    "infile = 'x_nature.pkl'\n",
    "sv = state_vector()\n",
    "sv = sv.load(infile)\n",
    "x_nature = sv.getTrajectory()\n",
    "maxit,xdim = np.shape(x_nature)\n",
    "\n",
    "country_name = sv.getCountry()\n",
    "outfile = 'y_obs.pkl'\n",
    "obs = obs_da(name = 'observe_three_state')\n",
    "\n",
    "df = pd.read_csv ('%s/data_full_all_history.csv'%(country_name))\n",
    "yo = np.zeros((len(df),xdim))\n",
    "\n",
    "\n",
    "print('Using day-to-day log-transform')\n",
    "\n",
    "p = df['daily_hos_add']\n",
    "for i in range(len(yo)):\n",
    "    if p[i]>=1:\n",
    "        yo[i,3] = np.log(p[i])\n",
    "    else:\n",
    "        yo[i,3] = np.log(p[i]+1)\n",
    "\n",
    "p=df['acc_recovered']\n",
    "for i in range(len(yo)):\n",
    "    if p[i]>=1:\n",
    "        yo[i,4] = np.log(p[i])\n",
    "    else:\n",
    "        yo[i,4] = np.log(p[i]+1)\n",
    "\n",
    "p=df['acc_death']\n",
    "for i in range(len(yo)):\n",
    "    if p[i]>=1:\n",
    "        yo[i,5] = np.log(p[i])\n",
    "    else:\n",
    "        yo[i,5] = np.log(p[i]+1)\n",
    "      \n",
    "y_number = np.exp(yo)\n",
    "\n",
    "print('Observation numbers = ')\n",
    "print(y_number[:,3:6])\n",
    "\n",
    "\n",
    "pos = np.zeros_like(yo)\n",
    "for i in range(int(maxit/100 + 1e-5)):\n",
    "    pos[i,:] = [0,1,2,3,4,5,6,7,8]\n",
    "\n",
    "obs.setVal(yo)\n",
    "obs.setPos(pos)\n",
    "\n",
    "obs.save(outfile)\n",
    "\n",
    "\n",
    "\n",
    "# In[ ]:\n",
    "\n",
    "\n",
    "\n",
    "\n"
   ]
  },
  {
   "cell_type": "code",
   "execution_count": 2,
   "id": "e404507f",
   "metadata": {},
   "outputs": [
    {
     "data": {
      "text/plain": [
       "array([[ 4.06044301,  0.        ,  0.        ],\n",
       "       [ 4.15888308,  0.        ,  0.        ],\n",
       "       [ 4.15888308,  0.        ,  0.        ],\n",
       "       ...,\n",
       "       [12.01225729, 13.59443362,  8.18674279],\n",
       "       [11.9926133 , 13.6111311 ,  8.19450551],\n",
       "       [11.97827453, 13.6256289 ,  8.20220844]])"
      ]
     },
     "execution_count": 2,
     "metadata": {},
     "output_type": "execute_result"
    }
   ],
   "source": [
    "yo[:,3:6]"
   ]
  },
  {
   "cell_type": "code",
   "execution_count": null,
   "id": "82e3720f",
   "metadata": {},
   "outputs": [],
   "source": []
  }
 ],
 "metadata": {
  "kernelspec": {
   "display_name": "Python 3",
   "language": "python",
   "name": "python3"
  },
  "language_info": {
   "codemirror_mode": {
    "name": "ipython",
    "version": 3
   },
   "file_extension": ".py",
   "mimetype": "text/x-python",
   "name": "python",
   "nbconvert_exporter": "python",
   "pygments_lexer": "ipython3",
   "version": "3.8.8"
  }
 },
 "nbformat": 4,
 "nbformat_minor": 5
}
